{
 "cells": [
  {
   "cell_type": "markdown",
   "metadata": {
    "pycharm": {
     "name": "#%% md\n"
    }
   },
   "source": [
    "# Choose tutors. Choose proper tutors for math exam"
   ]
  },
  {
   "cell_type": "code",
   "execution_count": 1,
   "metadata": {
    "pycharm": {
     "name": "#%%\n"
    }
   },
   "outputs": [],
   "source": [
    "import numpy as np\n",
    "import pandas as pd\n",
    "from sklearn.model_selection import train_test_split\n",
    "from sklearn.metrics import roc_auc_score\n",
    "import matplotlib.pyplot as plt\n",
    "import seaborn as sns"
   ]
  },
  {
   "cell_type": "markdown",
   "metadata": {
    "pycharm": {
     "name": "#%% md\n"
    }
   },
   "source": [
    "### Получение данных"
   ]
  },
  {
   "cell_type": "code",
   "execution_count": 2,
   "metadata": {
    "pycharm": {
     "name": "#%%\n"
    }
   },
   "outputs": [],
   "source": [
    "df_train = pd.read_csv('./data/train.csv')\n",
    "df_test = pd.read_csv('./data/test.csv')"
   ]
  },
  {
   "cell_type": "code",
   "execution_count": 3,
   "metadata": {
    "pycharm": {
     "name": "#%%\n"
    }
   },
   "outputs": [
    {
     "data": {
      "text/plain": "(10000, 12)"
     },
     "execution_count": 3,
     "metadata": {},
     "output_type": "execute_result"
    }
   ],
   "source": [
    "target = 'choose'\n",
    "\n",
    "X_train = df_train.drop(columns=['Id'])\n",
    "X_test = df_test.drop(columns=['Id'])\n",
    "\n",
    "X_train.shape"
   ]
  },
  {
   "cell_type": "markdown",
   "metadata": {
    "pycharm": {
     "name": "#%% md\n"
    }
   },
   "source": [
    "### Разведывательный анализ данных (EDA)"
   ]
  },
  {
   "cell_type": "code",
   "execution_count": 4,
   "metadata": {
    "pycharm": {
     "name": "#%%\n"
    }
   },
   "outputs": [
    {
     "name": "stdout",
     "output_type": "stream",
     "text": [
      "<class 'pandas.core.frame.DataFrame'>\n",
      "RangeIndex: 10000 entries, 0 to 9999\n",
      "Data columns (total 12 columns):\n",
      " #   Column               Non-Null Count  Dtype  \n",
      "---  ------               --------------  -----  \n",
      " 0   age                  10000 non-null  float64\n",
      " 1   years_of_experience  10000 non-null  float64\n",
      " 2   lesson_price         10000 non-null  float64\n",
      " 3   qualification        10000 non-null  float64\n",
      " 4   physics              10000 non-null  float64\n",
      " 5   chemistry            10000 non-null  float64\n",
      " 6   biology              10000 non-null  float64\n",
      " 7   english              10000 non-null  float64\n",
      " 8   geography            10000 non-null  float64\n",
      " 9   history              10000 non-null  float64\n",
      " 10  mean_exam_points     10000 non-null  float64\n",
      " 11  choose               10000 non-null  int64  \n",
      "dtypes: float64(11), int64(1)\n",
      "memory usage: 937.6 KB\n"
     ]
    }
   ],
   "source": [
    "X_train.info()"
   ]
  },
  {
   "cell_type": "code",
   "execution_count": 5,
   "metadata": {
    "pycharm": {
     "name": "#%%\n"
    }
   },
   "outputs": [
    {
     "data": {
      "text/plain": "                       count       mean         std    min     25%     50%  \\\nage                  10000.0    45.8009    8.030274   23.0    40.0    46.0   \nyears_of_experience  10000.0     1.9748    1.766883    0.0     0.0     2.0   \nlesson_price         10000.0  1702.4400  523.789062  200.0  1300.0  1550.0   \nqualification        10000.0     1.7243    0.798845    1.0     1.0     2.0   \nphysics              10000.0     0.3706    0.482990    0.0     0.0     0.0   \nchemistry            10000.0     0.1215    0.326724    0.0     0.0     0.0   \nbiology              10000.0     0.1172    0.321675    0.0     0.0     0.0   \nenglish              10000.0     0.0591    0.235824    0.0     0.0     0.0   \ngeography            10000.0     0.0277    0.164120    0.0     0.0     0.0   \nhistory              10000.0     0.0180    0.132958    0.0     0.0     0.0   \nmean_exam_points     10000.0    64.4352   13.595024   33.0    55.0    63.0   \nchoose               10000.0     0.1109    0.314024    0.0     0.0     0.0   \n\n                        75%     max  \nage                    51.0    68.0  \nyears_of_experience     3.0     9.0  \nlesson_price         2150.0  3950.0  \nqualification           2.0     4.0  \nphysics                 1.0     1.0  \nchemistry               0.0     1.0  \nbiology                 0.0     1.0  \nenglish                 0.0     1.0  \ngeography               0.0     1.0  \nhistory                 0.0     1.0  \nmean_exam_points       74.0   100.0  \nchoose                  0.0     1.0  ",
      "text/html": "<div>\n<style scoped>\n    .dataframe tbody tr th:only-of-type {\n        vertical-align: middle;\n    }\n\n    .dataframe tbody tr th {\n        vertical-align: top;\n    }\n\n    .dataframe thead th {\n        text-align: right;\n    }\n</style>\n<table border=\"1\" class=\"dataframe\">\n  <thead>\n    <tr style=\"text-align: right;\">\n      <th></th>\n      <th>count</th>\n      <th>mean</th>\n      <th>std</th>\n      <th>min</th>\n      <th>25%</th>\n      <th>50%</th>\n      <th>75%</th>\n      <th>max</th>\n    </tr>\n  </thead>\n  <tbody>\n    <tr>\n      <th>age</th>\n      <td>10000.0</td>\n      <td>45.8009</td>\n      <td>8.030274</td>\n      <td>23.0</td>\n      <td>40.0</td>\n      <td>46.0</td>\n      <td>51.0</td>\n      <td>68.0</td>\n    </tr>\n    <tr>\n      <th>years_of_experience</th>\n      <td>10000.0</td>\n      <td>1.9748</td>\n      <td>1.766883</td>\n      <td>0.0</td>\n      <td>0.0</td>\n      <td>2.0</td>\n      <td>3.0</td>\n      <td>9.0</td>\n    </tr>\n    <tr>\n      <th>lesson_price</th>\n      <td>10000.0</td>\n      <td>1702.4400</td>\n      <td>523.789062</td>\n      <td>200.0</td>\n      <td>1300.0</td>\n      <td>1550.0</td>\n      <td>2150.0</td>\n      <td>3950.0</td>\n    </tr>\n    <tr>\n      <th>qualification</th>\n      <td>10000.0</td>\n      <td>1.7243</td>\n      <td>0.798845</td>\n      <td>1.0</td>\n      <td>1.0</td>\n      <td>2.0</td>\n      <td>2.0</td>\n      <td>4.0</td>\n    </tr>\n    <tr>\n      <th>physics</th>\n      <td>10000.0</td>\n      <td>0.3706</td>\n      <td>0.482990</td>\n      <td>0.0</td>\n      <td>0.0</td>\n      <td>0.0</td>\n      <td>1.0</td>\n      <td>1.0</td>\n    </tr>\n    <tr>\n      <th>chemistry</th>\n      <td>10000.0</td>\n      <td>0.1215</td>\n      <td>0.326724</td>\n      <td>0.0</td>\n      <td>0.0</td>\n      <td>0.0</td>\n      <td>0.0</td>\n      <td>1.0</td>\n    </tr>\n    <tr>\n      <th>biology</th>\n      <td>10000.0</td>\n      <td>0.1172</td>\n      <td>0.321675</td>\n      <td>0.0</td>\n      <td>0.0</td>\n      <td>0.0</td>\n      <td>0.0</td>\n      <td>1.0</td>\n    </tr>\n    <tr>\n      <th>english</th>\n      <td>10000.0</td>\n      <td>0.0591</td>\n      <td>0.235824</td>\n      <td>0.0</td>\n      <td>0.0</td>\n      <td>0.0</td>\n      <td>0.0</td>\n      <td>1.0</td>\n    </tr>\n    <tr>\n      <th>geography</th>\n      <td>10000.0</td>\n      <td>0.0277</td>\n      <td>0.164120</td>\n      <td>0.0</td>\n      <td>0.0</td>\n      <td>0.0</td>\n      <td>0.0</td>\n      <td>1.0</td>\n    </tr>\n    <tr>\n      <th>history</th>\n      <td>10000.0</td>\n      <td>0.0180</td>\n      <td>0.132958</td>\n      <td>0.0</td>\n      <td>0.0</td>\n      <td>0.0</td>\n      <td>0.0</td>\n      <td>1.0</td>\n    </tr>\n    <tr>\n      <th>mean_exam_points</th>\n      <td>10000.0</td>\n      <td>64.4352</td>\n      <td>13.595024</td>\n      <td>33.0</td>\n      <td>55.0</td>\n      <td>63.0</td>\n      <td>74.0</td>\n      <td>100.0</td>\n    </tr>\n    <tr>\n      <th>choose</th>\n      <td>10000.0</td>\n      <td>0.1109</td>\n      <td>0.314024</td>\n      <td>0.0</td>\n      <td>0.0</td>\n      <td>0.0</td>\n      <td>0.0</td>\n      <td>1.0</td>\n    </tr>\n  </tbody>\n</table>\n</div>"
     },
     "execution_count": 5,
     "metadata": {},
     "output_type": "execute_result"
    }
   ],
   "source": [
    "X_train.describe().T"
   ]
  },
  {
   "cell_type": "code",
   "execution_count": 6,
   "metadata": {
    "pycharm": {
     "name": "#%%\n"
    }
   },
   "outputs": [
    {
     "data": {
      "text/plain": "    age  years_of_experience  lesson_price  qualification  physics  chemistry  \\\n0  35.0                  0.0        2150.0            2.0      0.0        0.0   \n1  52.0                  2.0        1250.0            2.0      1.0        0.0   \n2  29.0                  3.0        1750.0            1.0      1.0        0.0   \n3  33.0                  3.0        1050.0            1.0      0.0        0.0   \n4  46.0                  3.0        2250.0            2.0      1.0        0.0   \n\n   biology  english  geography  history  mean_exam_points  choose  \n0      0.0      0.0        0.0      0.0              74.0       0  \n1      1.0      0.0        0.0      1.0              57.0       1  \n2      0.0      0.0        0.0      0.0              66.0       0  \n3      0.0      0.0        0.0      0.0              66.0       1  \n4      0.0      0.0        0.0      0.0              73.0       0  ",
      "text/html": "<div>\n<style scoped>\n    .dataframe tbody tr th:only-of-type {\n        vertical-align: middle;\n    }\n\n    .dataframe tbody tr th {\n        vertical-align: top;\n    }\n\n    .dataframe thead th {\n        text-align: right;\n    }\n</style>\n<table border=\"1\" class=\"dataframe\">\n  <thead>\n    <tr style=\"text-align: right;\">\n      <th></th>\n      <th>age</th>\n      <th>years_of_experience</th>\n      <th>lesson_price</th>\n      <th>qualification</th>\n      <th>physics</th>\n      <th>chemistry</th>\n      <th>biology</th>\n      <th>english</th>\n      <th>geography</th>\n      <th>history</th>\n      <th>mean_exam_points</th>\n      <th>choose</th>\n    </tr>\n  </thead>\n  <tbody>\n    <tr>\n      <th>0</th>\n      <td>35.0</td>\n      <td>0.0</td>\n      <td>2150.0</td>\n      <td>2.0</td>\n      <td>0.0</td>\n      <td>0.0</td>\n      <td>0.0</td>\n      <td>0.0</td>\n      <td>0.0</td>\n      <td>0.0</td>\n      <td>74.0</td>\n      <td>0</td>\n    </tr>\n    <tr>\n      <th>1</th>\n      <td>52.0</td>\n      <td>2.0</td>\n      <td>1250.0</td>\n      <td>2.0</td>\n      <td>1.0</td>\n      <td>0.0</td>\n      <td>1.0</td>\n      <td>0.0</td>\n      <td>0.0</td>\n      <td>1.0</td>\n      <td>57.0</td>\n      <td>1</td>\n    </tr>\n    <tr>\n      <th>2</th>\n      <td>29.0</td>\n      <td>3.0</td>\n      <td>1750.0</td>\n      <td>1.0</td>\n      <td>1.0</td>\n      <td>0.0</td>\n      <td>0.0</td>\n      <td>0.0</td>\n      <td>0.0</td>\n      <td>0.0</td>\n      <td>66.0</td>\n      <td>0</td>\n    </tr>\n    <tr>\n      <th>3</th>\n      <td>33.0</td>\n      <td>3.0</td>\n      <td>1050.0</td>\n      <td>1.0</td>\n      <td>0.0</td>\n      <td>0.0</td>\n      <td>0.0</td>\n      <td>0.0</td>\n      <td>0.0</td>\n      <td>0.0</td>\n      <td>66.0</td>\n      <td>1</td>\n    </tr>\n    <tr>\n      <th>4</th>\n      <td>46.0</td>\n      <td>3.0</td>\n      <td>2250.0</td>\n      <td>2.0</td>\n      <td>1.0</td>\n      <td>0.0</td>\n      <td>0.0</td>\n      <td>0.0</td>\n      <td>0.0</td>\n      <td>0.0</td>\n      <td>73.0</td>\n      <td>0</td>\n    </tr>\n  </tbody>\n</table>\n</div>"
     },
     "execution_count": 6,
     "metadata": {},
     "output_type": "execute_result"
    }
   ],
   "source": [
    "X_train.head()"
   ]
  },
  {
   "cell_type": "code",
   "execution_count": 7,
   "metadata": {
    "pycharm": {
     "name": "#%%\n"
    }
   },
   "outputs": [
    {
     "data": {
      "text/plain": "0    8891\n1    1109\nName: choose, dtype: int64"
     },
     "execution_count": 7,
     "metadata": {},
     "output_type": "execute_result"
    }
   ],
   "source": [
    "# Сперва посмотрим на таргет\n",
    "X_train[target].value_counts()"
   ]
  },
  {
   "cell_type": "markdown",
   "metadata": {
    "pycharm": {
     "name": "#%% md\n"
    }
   },
   "source": [
    "Довольно сильный дисбаланс классов. Во первых, важно понимать природу такого дисбаланса. В данном случае, это естественно порядок вещей 0 в основном человек, работающий репетитором (даже начинающий), подходит для подготовки к экзамену по математике. В реальности, малое количество учеников меняют репетитора. Во-вторых, надо уточнить функцию ошибки. В данном случае испоьзуется `ROC AUC`, таким образом перебалансировка повысит качество обучения."
   ]
  },
  {
   "cell_type": "code",
   "execution_count": 8,
   "metadata": {
    "pycharm": {
     "name": "#%%\n"
    }
   },
   "outputs": [
    {
     "data": {
      "text/plain": "<Figure size 1440x1152 with 12 Axes>",
      "image/png": "[encoded data removed]"
     },
     "metadata": {
      "needs_background": "light"
     },
     "output_type": "display_data"
    }
   ],
   "source": [
    "fig, ax = plt.subplots(4, 3, figsize=(20, 16))\n",
    "\n",
    "for i in range(ax.shape[0]):\n",
    "    for j in range(ax.shape[1]):\n",
    "        data_index = i*ax.shape[1]+j\n",
    "        if data_index < len(X_train.columns):\n",
    "            sns.histplot(X_train[X_train.columns[data_index]], ax=ax[i][j], bins=10)"
   ]
  },
  {
   "cell_type": "markdown",
   "metadata": {},
   "source": [
    "Сразу видим несколько категориальных признаков. Распределение скалярных признаков в основном близкое к нормальному, выбросов не наблюдается. Также признаки необходимо масштабировать."
   ]
  },
  {
   "cell_type": "markdown",
   "metadata": {
    "pycharm": {
     "name": "#%% md\n"
    }
   },
   "source": [
    "### Подготовка данных"
   ]
  },
  {
   "cell_type": "code",
   "execution_count": 9,
   "metadata": {
    "pycharm": {
     "name": "#%%\n"
    }
   },
   "outputs": [],
   "source": [
    "def balance_df_by_target(df, target_name):\n",
    "    '''Перебалансировка'''\n",
    "    target_counts = df[target_name].value_counts()\n",
    "\n",
    "    major_class_name = target_counts.argmax()\n",
    "    minor_class_name = target_counts.argmin()\n",
    "\n",
    "    disbalance_coeff = int(target_counts[major_class_name] / target_counts[minor_class_name]) - 1\n",
    "\n",
    "    for i in range(disbalance_coeff):\n",
    "        sample = df[df[target_name] == minor_class_name].sample(target_counts[minor_class_name])\n",
    "        df = df.append(sample, ignore_index=True)\n",
    "\n",
    "    return df.sample(frac=1)"
   ]
  },
  {
   "cell_type": "code",
   "execution_count": 10,
   "metadata": {
    "pycharm": {
     "name": "#%%\n"
    }
   },
   "outputs": [
    {
     "data": {
      "text/plain": "0    8891\n1    8872\nName: choose, dtype: int64"
     },
     "execution_count": 10,
     "metadata": {},
     "output_type": "execute_result"
    }
   ],
   "source": [
    "df_balanced = balance_df_by_target(X_train, target)\n",
    "\n",
    "y = df_balanced[target]\n",
    "y.value_counts()"
   ]
  },
  {
   "cell_type": "code",
   "execution_count": 11,
   "metadata": {
    "pycharm": {
     "name": "#%%\n"
    }
   },
   "outputs": [],
   "source": [
    "features = ['years_of_experience', 'lesson_price', 'qualification', 'physics', 'chemistry', 'mean_exam_points']\n",
    "\n",
    "X_train = df_balanced.drop(columns=[target])\n",
    "X_train = X_train[features]\n",
    "X_test = X_test[features]"
   ]
  },
  {
   "cell_type": "code",
   "execution_count": 12,
   "metadata": {
    "pycharm": {
     "name": "#%%\n"
    }
   },
   "outputs": [],
   "source": [
    "def standardization(df):\n",
    "    '''Функция стандартизации датафрейма'''\n",
    "    df_st = df.copy()\n",
    "    for column in df_st.columns:\n",
    "        df_st[column] = (df_st[column] - df_st[column].mean()) / df_st[column].std()\n",
    "\n",
    "    return df_st"
   ]
  },
  {
   "cell_type": "code",
   "execution_count": 13,
   "metadata": {
    "pycharm": {
     "name": "#%%\n"
    }
   },
   "outputs": [
    {
     "data": {
      "text/plain": "       years_of_experience  lesson_price  qualification   physics  chemistry  \\\n8413              2.175613      2.492868       1.507102 -0.967564  -0.434678   \n5115              0.517605     -1.088250      -0.922948 -0.967564   2.300423   \n13013            -1.140404     -0.217167       0.292077  1.033465  -0.434678   \n11469            -0.035065     -0.701102       0.292077  1.033465  -0.434678   \n10164            -1.140404     -0.410741      -0.922948  1.033465   2.300423   \n\n       mean_exam_points  \n8413           1.677355  \n5115          -1.331501  \n13013          0.211502  \n11469         -0.714300  \n10164         -0.251399  ",
      "text/html": "<div>\n<style scoped>\n    .dataframe tbody tr th:only-of-type {\n        vertical-align: middle;\n    }\n\n    .dataframe tbody tr th {\n        vertical-align: top;\n    }\n\n    .dataframe thead th {\n        text-align: right;\n    }\n</style>\n<table border=\"1\" class=\"dataframe\">\n  <thead>\n    <tr style=\"text-align: right;\">\n      <th></th>\n      <th>years_of_experience</th>\n      <th>lesson_price</th>\n      <th>qualification</th>\n      <th>physics</th>\n      <th>chemistry</th>\n      <th>mean_exam_points</th>\n    </tr>\n  </thead>\n  <tbody>\n    <tr>\n      <th>8413</th>\n      <td>2.175613</td>\n      <td>2.492868</td>\n      <td>1.507102</td>\n      <td>-0.967564</td>\n      <td>-0.434678</td>\n      <td>1.677355</td>\n    </tr>\n    <tr>\n      <th>5115</th>\n      <td>0.517605</td>\n      <td>-1.088250</td>\n      <td>-0.922948</td>\n      <td>-0.967564</td>\n      <td>2.300423</td>\n      <td>-1.331501</td>\n    </tr>\n    <tr>\n      <th>13013</th>\n      <td>-1.140404</td>\n      <td>-0.217167</td>\n      <td>0.292077</td>\n      <td>1.033465</td>\n      <td>-0.434678</td>\n      <td>0.211502</td>\n    </tr>\n    <tr>\n      <th>11469</th>\n      <td>-0.035065</td>\n      <td>-0.701102</td>\n      <td>0.292077</td>\n      <td>1.033465</td>\n      <td>-0.434678</td>\n      <td>-0.714300</td>\n    </tr>\n    <tr>\n      <th>10164</th>\n      <td>-1.140404</td>\n      <td>-0.410741</td>\n      <td>-0.922948</td>\n      <td>1.033465</td>\n      <td>2.300423</td>\n      <td>-0.251399</td>\n    </tr>\n  </tbody>\n</table>\n</div>"
     },
     "execution_count": 13,
     "metadata": {},
     "output_type": "execute_result"
    }
   ],
   "source": [
    "X_train = standardization(X_train)\n",
    "X_test = standardization(X_test)\n",
    "\n",
    "X_train.head()"
   ]
  },
  {
   "cell_type": "markdown",
   "metadata": {
    "pycharm": {
     "name": "#%% md\n"
    }
   },
   "source": [
    "### Построение модели"
   ]
  },
  {
   "cell_type": "code",
   "execution_count": 14,
   "metadata": {
    "pycharm": {
     "name": "#%%\n"
    }
   },
   "outputs": [],
   "source": [
    "np.random.seed(2)\n",
    "\n",
    "def get_bootstrap(data, labels, N):\n",
    "    n_samples = data.shape[0]\n",
    "    bootstrap = []\n",
    "\n",
    "    for i in range(N):\n",
    "        b_data = np.zeros(data.shape)\n",
    "        b_labels = np.zeros(labels.shape)\n",
    "\n",
    "        for j in range(n_samples):\n",
    "            sample_index = np.random.randint(0, n_samples-1)\n",
    "            b_data[j] = data[sample_index]\n",
    "            b_labels[j] = labels[sample_index]\n",
    "        bootstrap.append((b_data, b_labels))\n",
    "\n",
    "    return bootstrap\n",
    "\n",
    "\n",
    "def get_subsample(len_sample):\n",
    "    sample_indexes = [i for i in range(len_sample)]\n",
    "\n",
    "    len_subsample = int(np.sqrt(len_sample))\n",
    "    subsample = []\n",
    "\n",
    "    np.random.shuffle(sample_indexes)\n",
    "    for _ in range(len_subsample):\n",
    "        subsample.append(sample_indexes.pop())\n",
    "\n",
    "    return subsample"
   ]
  },
  {
   "cell_type": "code",
   "execution_count": 15,
   "metadata": {
    "pycharm": {
     "name": "#%%\n"
    }
   },
   "outputs": [],
   "source": [
    "class Node:\n",
    "    def __init__(self, index, t, true_branch, false_branch):\n",
    "        self.index = index\n",
    "        self.t = t\n",
    "        self.true_branch = true_branch\n",
    "        self.false_branch = false_branch\n",
    "\n",
    "\n",
    "class Leaf:\n",
    "    def __init__(self, data, labels):\n",
    "        self.data = data\n",
    "        self.labels = labels\n",
    "        self.prediction = self.predict()\n",
    "\n",
    "    def predict(self):\n",
    "        classes = {}\n",
    "        for label in self.labels:\n",
    "            if label not in classes:\n",
    "                classes[label] = 0\n",
    "            classes[label] += 1\n",
    "        prediction = max(classes, key=classes.get)\n",
    "        return prediction"
   ]
  },
  {
   "cell_type": "code",
   "execution_count": 16,
   "metadata": {
    "pycharm": {
     "name": "#%%\n"
    }
   },
   "outputs": [],
   "source": [
    "def gini(labels):\n",
    "    classes = {}\n",
    "    for label in labels:\n",
    "        if label not in classes:\n",
    "            classes[label] = 0\n",
    "        classes[label] += 1\n",
    "\n",
    "    impurity = 1\n",
    "    for label in classes:\n",
    "        p = classes[label] / len(labels)\n",
    "        impurity -= p ** 2\n",
    "\n",
    "    return impurity"
   ]
  },
  {
   "cell_type": "code",
   "execution_count": 17,
   "metadata": {
    "pycharm": {
     "name": "#%%\n"
    }
   },
   "outputs": [],
   "source": [
    "def quality(left_labels, right_labels, current_gini):\n",
    "\n",
    "    p = float(left_labels.shape[0]) / (left_labels.shape[0] + right_labels.shape[0])\n",
    "\n",
    "    return current_gini - p * gini(left_labels) - (1 - p) * gini(right_labels)"
   ]
  },
  {
   "cell_type": "code",
   "execution_count": 18,
   "metadata": {
    "pycharm": {
     "name": "#%%\n"
    }
   },
   "outputs": [],
   "source": [
    "def split(data, labels, index, t):\n",
    "\n",
    "    left = np.where(data[:, index] <= t)\n",
    "    right = np.where(data[:, index] > t)\n",
    "\n",
    "    true_data = data[left]\n",
    "    false_data = data[right]\n",
    "    true_labels = labels[left]\n",
    "    false_labels = labels[right]\n",
    "\n",
    "    return true_data, false_data, true_labels, false_labels"
   ]
  },
  {
   "cell_type": "code",
   "execution_count": 19,
   "metadata": {
    "pycharm": {
     "name": "#%%\n"
    }
   },
   "outputs": [],
   "source": [
    "def find_best_split(data, labels):\n",
    "    min_leaf = 1\n",
    "\n",
    "    current_gini = gini(labels)\n",
    "\n",
    "    best_quality = 0\n",
    "    best_t = None\n",
    "    best_index = None\n",
    "\n",
    "    n_features = data.shape[1]\n",
    "\n",
    "    subsample = get_subsample(n_features)\n",
    "\n",
    "    for index in subsample:\n",
    "        t_values = np.unique([row[index] for row in data])\n",
    "\n",
    "        for t in t_values:\n",
    "            true_data, false_data, true_labels, false_labels = split(data, labels, index, t)\n",
    "            if len(true_data) < min_leaf or len(false_data) < min_leaf:\n",
    "                continue\n",
    "\n",
    "            current_quality = quality(true_labels, false_labels, current_gini)\n",
    "\n",
    "            if current_quality > best_quality:\n",
    "                best_quality, best_t, best_index = current_quality, t, index\n",
    "\n",
    "    return best_quality, best_t, best_index"
   ]
  },
  {
   "cell_type": "code",
   "execution_count": 20,
   "metadata": {
    "pycharm": {
     "name": "#%%\n"
    }
   },
   "outputs": [],
   "source": [
    "def build_tree(data, labels, max_depth = 4, depth = 0):\n",
    "    quality, t, index = find_best_split(data, labels)\n",
    "\n",
    "    if depth < max_depth and t is not None:\n",
    "        true_data, false_data, true_labels, false_labels = split(data, labels, index, t)\n",
    "        true_branch = build_tree(true_data, true_labels, max_depth, depth=depth+1)\n",
    "        false_branch = build_tree(false_data, false_labels, max_depth, depth=depth+1)\n",
    "        return Node(index, t, true_branch, false_branch)\n",
    "    else:\n",
    "        return Leaf(data, labels)"
   ]
  },
  {
   "cell_type": "code",
   "execution_count": 21,
   "metadata": {
    "pycharm": {
     "name": "#%%\n"
    }
   },
   "outputs": [],
   "source": [
    "def random_forest(data, labels, n_trees, max_depth = 4):\n",
    "    data = data.to_numpy()\n",
    "    labels = labels.to_numpy()\n",
    "    forest = []\n",
    "    bootstrap = get_bootstrap(data, labels, n_trees)\n",
    "\n",
    "    for b_data, b_labels in bootstrap:\n",
    "        forest.append(build_tree(b_data, b_labels, max_depth))\n",
    "\n",
    "    return forest"
   ]
  },
  {
   "cell_type": "code",
   "execution_count": 22,
   "metadata": {
    "pycharm": {
     "name": "#%%\n"
    }
   },
   "outputs": [],
   "source": [
    "def classify_object(obj, node):\n",
    "    if isinstance(node, Leaf):\n",
    "        answer = node.prediction\n",
    "        return answer\n",
    "\n",
    "    if obj[node.index] <= node.t:\n",
    "        return classify_object(obj, node.true_branch)\n",
    "    else:\n",
    "        return classify_object(obj, node.false_branch)"
   ]
  },
  {
   "cell_type": "code",
   "execution_count": 23,
   "metadata": {
    "pycharm": {
     "name": "#%%\n"
    }
   },
   "outputs": [],
   "source": [
    "def predict(data, tree):\n",
    "    classes = []\n",
    "    for obj in data:\n",
    "        prediction = classify_object(obj, tree)\n",
    "        classes.append(prediction)\n",
    "    return classes"
   ]
  },
  {
   "cell_type": "code",
   "execution_count": 24,
   "metadata": {
    "pycharm": {
     "name": "#%%\n"
    }
   },
   "outputs": [],
   "source": [
    "def tree_vote(forest, data, proba = False):\n",
    "    data = data.to_numpy()\n",
    "\n",
    "    predictions = []\n",
    "    for tree in forest:\n",
    "        predictions.append(predict(data, tree))\n",
    "\n",
    "    predictions_per_object = list(zip(*predictions))\n",
    "\n",
    "    voted_predictions = []\n",
    "\n",
    "    if proba is True:\n",
    "        for obj in predictions_per_object:\n",
    "            class_0 = 0\n",
    "            class_1 = 0\n",
    "            for itm in obj:\n",
    "                if itm == 0:\n",
    "                    class_0 += 1\n",
    "                else:\n",
    "                    class_1 += 1\n",
    "            probability = class_1 / (class_0 + class_1)\n",
    "            voted_predictions.append(probability)\n",
    "    else:\n",
    "        for obj in predictions_per_object:\n",
    "            voted_predictions.append(max(set(obj), key=obj.count))\n",
    "\n",
    "    return voted_predictions"
   ]
  },
  {
   "cell_type": "code",
   "execution_count": 25,
   "metadata": {
    "pycharm": {
     "name": "#%%\n"
    }
   },
   "outputs": [],
   "source": [
    "train_data, valid_data, train_labels, valid_labels = train_test_split(X_train,\n",
    "                                                                    y,\n",
    "                                                                    test_size = 0.3,\n",
    "                                                                    random_state = 4)"
   ]
  },
  {
   "cell_type": "code",
   "execution_count": 51,
   "metadata": {
    "pycharm": {
     "name": "#%%\n"
    }
   },
   "outputs": [],
   "source": [
    "forest = random_forest(train_data, train_labels, n_trees=20, max_depth=3)"
   ]
  },
  {
   "cell_type": "code",
   "execution_count": 52,
   "metadata": {
    "pycharm": {
     "name": "#%%\n"
    }
   },
   "outputs": [
    {
     "data": {
      "text/plain": "(0.7838926273474572, 0.7723861125035539)"
     },
     "execution_count": 52,
     "metadata": {},
     "output_type": "execute_result"
    }
   ],
   "source": [
    "train_answers = tree_vote(forest, train_data, proba=True)\n",
    "train_score = roc_auc_score(train_labels, train_answers)\n",
    "valid_answers = tree_vote(forest, valid_data, proba=True)\n",
    "valid_score = roc_auc_score(valid_labels, valid_answers)\n",
    "train_score, valid_score"
   ]
  },
  {
   "cell_type": "markdown",
   "metadata": {
    "pycharm": {
     "name": "#%% md\n"
    }
   },
   "source": [
    "### Формирование предсказаний"
   ]
  },
  {
   "cell_type": "code",
   "execution_count": 53,
   "metadata": {
    "pycharm": {
     "name": "#%%\n"
    }
   },
   "outputs": [
    {
     "data": {
      "text/plain": "      Id  choose\n0  10000    0.80\n1  10001    0.95\n2  10002    0.45\n3  10003    0.80\n4  10004    0.95\n5  10005    0.95\n6  10006    1.00\n7  10007    1.00\n8  10008    0.80\n9  10009    0.95",
      "text/html": "<div>\n<style scoped>\n    .dataframe tbody tr th:only-of-type {\n        vertical-align: middle;\n    }\n\n    .dataframe tbody tr th {\n        vertical-align: top;\n    }\n\n    .dataframe thead th {\n        text-align: right;\n    }\n</style>\n<table border=\"1\" class=\"dataframe\">\n  <thead>\n    <tr style=\"text-align: right;\">\n      <th></th>\n      <th>Id</th>\n      <th>choose</th>\n    </tr>\n  </thead>\n  <tbody>\n    <tr>\n      <th>0</th>\n      <td>10000</td>\n      <td>0.80</td>\n    </tr>\n    <tr>\n      <th>1</th>\n      <td>10001</td>\n      <td>0.95</td>\n    </tr>\n    <tr>\n      <th>2</th>\n      <td>10002</td>\n      <td>0.45</td>\n    </tr>\n    <tr>\n      <th>3</th>\n      <td>10003</td>\n      <td>0.80</td>\n    </tr>\n    <tr>\n      <th>4</th>\n      <td>10004</td>\n      <td>0.95</td>\n    </tr>\n    <tr>\n      <th>5</th>\n      <td>10005</td>\n      <td>0.95</td>\n    </tr>\n    <tr>\n      <th>6</th>\n      <td>10006</td>\n      <td>1.00</td>\n    </tr>\n    <tr>\n      <th>7</th>\n      <td>10007</td>\n      <td>1.00</td>\n    </tr>\n    <tr>\n      <th>8</th>\n      <td>10008</td>\n      <td>0.80</td>\n    </tr>\n    <tr>\n      <th>9</th>\n      <td>10009</td>\n      <td>0.95</td>\n    </tr>\n  </tbody>\n</table>\n</div>"
     },
     "execution_count": 53,
     "metadata": {},
     "output_type": "execute_result"
    }
   ],
   "source": [
    "test_answers = tree_vote(forest, X_test, proba=True)\n",
    "\n",
    "preds = pd.DataFrame({\n",
    "    'Id': df_test['Id'].copy(),\n",
    "    'choose': test_answers\n",
    "})\n",
    "preds.head(10)"
   ]
  },
  {
   "cell_type": "markdown",
   "metadata": {
    "pycharm": {
     "name": "#%% md\n"
    }
   },
   "source": [
    "### Сохранение предсказаний"
   ]
  },
  {
   "cell_type": "code",
   "execution_count": 54,
   "metadata": {
    "pycharm": {
     "name": "#%%\n"
    }
   },
   "outputs": [],
   "source": [
    "preds.to_csv('./data/predictions.csv', index=False, encoding='utf-8', sep=',')"
   ]
  }
 ],
 "metadata": {
  "kernelspec": {
   "display_name": "Python 3",
   "language": "python",
   "name": "python3"
  },
  "language_info": {
   "codemirror_mode": {
    "name": "ipython",
    "version": 3
   },
   "file_extension": ".py",
   "mimetype": "text/x-python",
   "name": "python",
   "nbconvert_exporter": "python",
   "pygments_lexer": "ipython3",
   "version": "3.8.8"
  }
 },
 "nbformat": 4,
 "nbformat_minor": 4
}